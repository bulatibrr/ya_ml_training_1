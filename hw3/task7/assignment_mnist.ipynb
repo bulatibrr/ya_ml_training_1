{
 "cells": [
  {
   "attachments": {},
   "cell_type": "markdown",
   "metadata": {},
   "source": [
    "## Домашнее задание №7\n",
    "\n",
    "##### Автор: [Радослав Нейчев](https://www.linkedin.com/in/radoslav-neychev/), @neychev"
   ]
  },
  {
   "cell_type": "code",
   "metadata": {
    "ExecuteTime": {
     "end_time": "2025-02-25T08:39:04.996276Z",
     "start_time": "2025-02-25T08:39:03.150771Z"
    }
   },
   "source": [
    "import json\n",
    "\n",
    "import numpy as np\n",
    "\n",
    "import torch\n",
    "from torch import nn\n",
    "from torch.nn import functional as F\n",
    "\n",
    "import torchvision\n",
    "from torchvision.datasets import MNIST\n",
    "\n",
    "from matplotlib import pyplot as plt\n",
    "from IPython.display import clear_output"
   ],
   "outputs": [],
   "execution_count": 1
  },
  {
   "attachments": {},
   "cell_type": "markdown",
   "metadata": {},
   "source": [
    "### Задача №1: \n",
    "Обратимся к классической задаче распознавания рукописных цифр. Мы будем работать с набором данных [MNIST](http://yann.lecun.com/exdb/mnist/). В данном задании воспользуемся всем датасетом целиком.\n",
    "\n",
    "__Ваша основная задача: реализовать весь пайплан обучения модели и добиться качества $\\geq 92\\%$ на тестовой выборке.__\n",
    "\n",
    "Код для обучения модели в данном задании отсутствует. Присутствует лишь несколько тестов, которые помогут вам отладить свое решение. За примером можно обратиться к ноутбуку первого занятия.\n",
    "\n",
    "Настоятельно рекомендуем написать код \"с нуля\", лишь поглядывая на готовые примеры, а не просто \"скопировать-вставить\". Это поможет вам в дальнейшем."
   ]
  },
  {
   "cell_type": "code",
   "metadata": {
    "ExecuteTime": {
     "end_time": "2025-02-25T08:39:33.476121Z",
     "start_time": "2025-02-25T08:39:10.648438Z"
    }
   },
   "source": [
    "# do not change the code in the block below\n",
    "# __________start of block__________\n",
    "\n",
    "train_mnist_data = MNIST('.', train=True, transform=torchvision.transforms.ToTensor(), download=True)\n",
    "test_mnist_data = MNIST('.', train=False, transform=torchvision.transforms.ToTensor(), download=True)\n",
    "\n",
    "\n",
    "train_data_loader = torch.utils.data.DataLoader(\n",
    "    train_mnist_data,\n",
    "    batch_size=32,\n",
    "    shuffle=True,\n",
    "    num_workers=2\n",
    ")\n",
    "\n",
    "test_data_loader = torch.utils.data.DataLoader(\n",
    "    test_mnist_data,\n",
    "    batch_size=32,\n",
    "    shuffle=False,\n",
    "    num_workers=2\n",
    ")\n",
    "\n",
    "random_batch = next(iter(train_data_loader))\n",
    "_image, _label = random_batch[0][0], random_batch[1][0]\n",
    "plt.figure()\n",
    "plt.imshow(_image.reshape(28, 28))\n",
    "plt.title(f'Image label: {_label}')\n",
    "# __________end of block__________"
   ],
   "outputs": [
    {
     "name": "stderr",
     "output_type": "stream",
     "text": [
      "100%|██████████| 9.91M/9.91M [00:12<00:00, 766kB/s] \n",
      "100%|██████████| 28.9k/28.9k [00:00<00:00, 212kB/s]\n",
      "100%|██████████| 1.65M/1.65M [00:02<00:00, 815kB/s] \n",
      "100%|██████████| 4.54k/4.54k [00:00<00:00, 4.57MB/s]\n"
     ]
    },
    {
     "data": {
      "text/plain": [
       "Text(0.5, 1.0, 'Image label: 1')"
      ]
     },
     "execution_count": 2,
     "metadata": {},
     "output_type": "execute_result"
    },
    {
     "data": {
      "text/plain": [
       "<Figure size 640x480 with 1 Axes>"
      ],
      "image/png": "[encoded data removed]"
     },
     "metadata": {},
     "output_type": "display_data"
    }
   ],
   "execution_count": 2
  },
  {
   "attachments": {},
   "cell_type": "markdown",
   "metadata": {},
   "source": [
    "Постройте модель ниже. Пожалуйста, не стройте переусложненную сеть, не стоит делать ее глубже четырех слоев (можно и меньше). Ваша основная задача – обучить модель и получить качество на отложенной (тестовой выборке) не менее 92% accuracy.\n",
    "\n",
    "*Комментарий: для этого достаточно линейных слоев и функций активации.*\n",
    "\n",
    "__Внимание, ваша модель должна быть представлена именно переменной `model`.__"
   ]
  },
  {
   "cell_type": "code",
   "metadata": {
    "ExecuteTime": {
     "end_time": "2025-02-25T09:20:23.489417Z",
     "start_time": "2025-02-25T09:20:23.484418Z"
    }
   },
   "source": [
    "class SomeNet(nn.Module):\n",
    "    def __init__(self):\n",
    "        super().__init__()\n",
    "        self.model = nn.Sequential(\n",
    "            nn.Linear(28 * 28, 392),\n",
    "            nn.ReLU(),\n",
    "            nn.Linear(392, 196),\n",
    "            nn.ReLU(),\n",
    "            nn.Linear(196, 10)\n",
    "        )\n",
    "\n",
    "    def forward(self, x):\n",
    "        logits = self.model(x)\n",
    "        return logits\n",
    "\n",
    "\n",
    "model = SomeNet()"
   ],
   "outputs": [],
   "execution_count": 21
  },
  {
   "attachments": {},
   "cell_type": "markdown",
   "metadata": {},
   "source": [
    "Локальные тесты для проверки вашей модели доступны ниже:"
   ]
  },
  {
   "cell_type": "code",
   "metadata": {
    "ExecuteTime": {
     "end_time": "2025-02-25T09:20:24.621231Z",
     "start_time": "2025-02-25T09:20:24.617509Z"
    }
   },
   "source": [
    "# do not change the code in the block below\n",
    "# __________start of block__________\n",
    "assert model is not None, 'Please, use `model` variable to store your model'\n",
    "\n",
    "try:\n",
    "    x = random_batch[0].reshape(-1, 784)\n",
    "    y = random_batch[1]\n",
    "\n",
    "    # compute outputs given inputs, both are variables\n",
    "    y_predicted = model(x)    \n",
    "except Exception as e:\n",
    "    print('Something is wrong with the model')\n",
    "    raise e\n",
    "    \n",
    "    \n",
    "assert y_predicted.shape[-1] == 10, 'Model should predict 10 logits/probas'\n",
    "\n",
    "print('Everything seems fine!')\n",
    "# __________end of block__________"
   ],
   "outputs": [
    {
     "name": "stdout",
     "output_type": "stream",
     "text": [
      "Everything seems fine!\n"
     ]
    }
   ],
   "execution_count": 22
  },
  {
   "attachments": {},
   "cell_type": "markdown",
   "metadata": {},
   "source": [
    "Настройте параметры модели на обучающей выборке. Рекомендуем поработать с различными оптимизаторами."
   ]
  },
  {
   "cell_type": "code",
   "metadata": {
    "ExecuteTime": {
     "end_time": "2025-02-25T09:29:24.172347Z",
     "start_time": "2025-02-25T09:28:25.897004Z"
    }
   },
   "source": [
    "def train_loop(dataloader, model, loss_fn, optimizer):\n",
    "    size = len(dataloader.dataset)\n",
    "    model.train()\n",
    "    for batch, (X, y) in enumerate(dataloader):\n",
    "        pred = model(X.reshape(-1, 784))\n",
    "        loss = loss_fn(pred, y)\n",
    "\n",
    "        loss.backward()\n",
    "        optimizer.step()\n",
    "        optimizer.zero_grad()\n",
    "\n",
    "        if batch % 100 == 0:\n",
    "            loss, current = loss.item(), batch * 32 + len(X)\n",
    "            print(f\"loss: {loss:>7f}  [{current:>5d}/{size:>5d}]\")\n",
    "\n",
    "\n",
    "def test_loop(dataloader, model, loss_fn):\n",
    "    model.eval()\n",
    "    size = len(dataloader.dataset)\n",
    "    num_batches = len(dataloader)\n",
    "    test_loss, correct = 0, 0\n",
    "\n",
    "    with torch.no_grad():\n",
    "        for X, y in dataloader:\n",
    "            pred = model(X.reshape(-1, 784))\n",
    "            test_loss += loss_fn(pred, y).item()\n",
    "            correct += (pred.argmax(1) == y).type(torch.float).sum().item()\n",
    "\n",
    "    test_loss /= num_batches\n",
    "    correct /= size\n",
    "    print(f\"Test Error: \\n Accuracy: {(100*correct):>0.1f}%, Avg loss: {test_loss:>8f} \\n\")\n",
    "\n",
    "\n",
    "\n",
    "learning_rate = 1e-3\n",
    "\n",
    "lfn = nn.CrossEntropyLoss()\n",
    "optim = torch.optim.SGD(model.parameters(), lr=learning_rate)\n",
    "\n",
    "epochs = 10\n",
    "for t in range(epochs):\n",
    "    print(f\"Epoch {t+1}\\n-------------------------------\")\n",
    "    train_loop(train_data_loader, model, lfn, optim)\n",
    "    test_loop(test_data_loader, model, lfn)\n",
    "print(\"Done!\")"
   ],
   "outputs": [
    {
     "name": "stdout",
     "output_type": "stream",
     "text": [
      "Epoch 1\n",
      "-------------------------------\n",
      "loss: 0.052086  [   32/60000]\n",
      "loss: 0.433884  [ 3232/60000]\n",
      "loss: 0.356380  [ 6432/60000]\n",
      "loss: 0.141056  [ 9632/60000]\n",
      "loss: 0.477433  [12832/60000]\n",
      "loss: 0.469815  [16032/60000]\n",
      "loss: 0.212249  [19232/60000]\n",
      "loss: 0.817154  [22432/60000]\n",
      "loss: 0.588426  [25632/60000]\n",
      "loss: 0.554062  [28832/60000]\n",
      "loss: 0.160309  [32032/60000]\n",
      "loss: 0.145993  [35232/60000]\n",
      "loss: 0.194331  [38432/60000]\n",
      "loss: 0.507368  [41632/60000]\n",
      "loss: 0.138351  [44832/60000]\n",
      "loss: 0.196249  [48032/60000]\n",
      "loss: 0.518435  [51232/60000]\n",
      "loss: 0.108088  [54432/60000]\n",
      "loss: 0.229942  [57632/60000]\n",
      "Test Error: \n",
      " Accuracy: 91.5%, Avg loss: 0.292127 \n",
      "\n",
      "Epoch 2\n",
      "-------------------------------\n",
      "loss: 0.493173  [   32/60000]\n",
      "loss: 0.337595  [ 3232/60000]\n",
      "loss: 0.548337  [ 6432/60000]\n",
      "loss: 0.430503  [ 9632/60000]\n",
      "loss: 0.381133  [12832/60000]\n",
      "loss: 0.272339  [16032/60000]\n",
      "loss: 0.323367  [19232/60000]\n",
      "loss: 0.186631  [22432/60000]\n",
      "loss: 0.357175  [25632/60000]\n",
      "loss: 0.457204  [28832/60000]\n",
      "loss: 0.115430  [32032/60000]\n",
      "loss: 0.098550  [35232/60000]\n",
      "loss: 0.375704  [38432/60000]\n",
      "loss: 0.287787  [41632/60000]\n",
      "loss: 0.204701  [44832/60000]\n",
      "loss: 0.209382  [48032/60000]\n",
      "loss: 0.467012  [51232/60000]\n",
      "loss: 0.269664  [54432/60000]\n",
      "loss: 0.218936  [57632/60000]\n",
      "Test Error: \n",
      " Accuracy: 91.8%, Avg loss: 0.286907 \n",
      "\n",
      "Epoch 3\n",
      "-------------------------------\n",
      "loss: 0.200834  [   32/60000]\n",
      "loss: 0.470928  [ 3232/60000]\n",
      "loss: 0.189909  [ 6432/60000]\n",
      "loss: 0.112171  [ 9632/60000]\n",
      "loss: 0.269738  [12832/60000]\n",
      "loss: 0.562840  [16032/60000]\n",
      "loss: 0.133518  [19232/60000]\n",
      "loss: 0.562373  [22432/60000]\n",
      "loss: 0.177197  [25632/60000]\n",
      "loss: 0.133264  [28832/60000]\n",
      "loss: 0.444174  [32032/60000]\n",
      "loss: 0.238752  [35232/60000]\n",
      "loss: 0.271442  [38432/60000]\n",
      "loss: 0.243686  [41632/60000]\n",
      "loss: 0.141274  [44832/60000]\n",
      "loss: 0.122014  [48032/60000]\n",
      "loss: 0.074012  [51232/60000]\n",
      "loss: 0.190120  [54432/60000]\n",
      "loss: 0.145959  [57632/60000]\n",
      "Test Error: \n",
      " Accuracy: 91.8%, Avg loss: 0.282855 \n",
      "\n",
      "Epoch 4\n",
      "-------------------------------\n",
      "loss: 0.313098  [   32/60000]\n",
      "loss: 0.338933  [ 3232/60000]\n",
      "loss: 0.173537  [ 6432/60000]\n",
      "loss: 0.260022  [ 9632/60000]\n",
      "loss: 0.398015  [12832/60000]\n",
      "loss: 0.203119  [16032/60000]\n",
      "loss: 0.232751  [19232/60000]\n",
      "loss: 0.422431  [22432/60000]\n",
      "loss: 0.350881  [25632/60000]\n",
      "loss: 0.236527  [28832/60000]\n",
      "loss: 0.326348  [32032/60000]\n",
      "loss: 0.457127  [35232/60000]\n",
      "loss: 0.334778  [38432/60000]\n",
      "loss: 0.402997  [41632/60000]\n",
      "loss: 0.435016  [44832/60000]\n",
      "loss: 0.161661  [48032/60000]\n",
      "loss: 0.370674  [51232/60000]\n",
      "loss: 0.462845  [54432/60000]\n",
      "loss: 0.142685  [57632/60000]\n",
      "Test Error: \n",
      " Accuracy: 92.0%, Avg loss: 0.278129 \n",
      "\n",
      "Epoch 5\n",
      "-------------------------------\n",
      "loss: 0.331893  [   32/60000]\n",
      "loss: 0.203843  [ 3232/60000]\n",
      "loss: 0.302617  [ 6432/60000]\n",
      "loss: 0.287304  [ 9632/60000]\n",
      "loss: 0.310749  [12832/60000]\n",
      "loss: 0.217411  [16032/60000]\n",
      "loss: 0.270519  [19232/60000]\n",
      "loss: 0.248623  [22432/60000]\n",
      "loss: 0.147045  [25632/60000]\n",
      "loss: 0.151516  [28832/60000]\n",
      "loss: 0.453408  [32032/60000]\n",
      "loss: 0.346591  [35232/60000]\n",
      "loss: 0.155050  [38432/60000]\n",
      "loss: 0.372806  [41632/60000]\n",
      "loss: 0.282323  [44832/60000]\n",
      "loss: 0.210123  [48032/60000]\n",
      "loss: 0.325315  [51232/60000]\n",
      "loss: 0.144721  [54432/60000]\n",
      "loss: 0.171683  [57632/60000]\n",
      "Test Error: \n",
      " Accuracy: 92.2%, Avg loss: 0.273871 \n",
      "\n",
      "Epoch 6\n",
      "-------------------------------\n",
      "loss: 0.297488  [   32/60000]\n",
      "loss: 0.216468  [ 3232/60000]\n",
      "loss: 0.562557  [ 6432/60000]\n",
      "loss: 0.390793  [ 9632/60000]\n",
      "loss: 0.238088  [12832/60000]\n",
      "loss: 0.146880  [16032/60000]\n",
      "loss: 0.199208  [19232/60000]\n",
      "loss: 0.436104  [22432/60000]\n",
      "loss: 0.262254  [25632/60000]\n",
      "loss: 0.068413  [28832/60000]\n",
      "loss: 0.172485  [32032/60000]\n",
      "loss: 0.239790  [35232/60000]\n",
      "loss: 0.183278  [38432/60000]\n",
      "loss: 0.276455  [41632/60000]\n",
      "loss: 0.160706  [44832/60000]\n",
      "loss: 0.436583  [48032/60000]\n",
      "loss: 0.383230  [51232/60000]\n",
      "loss: 0.332613  [54432/60000]\n",
      "loss: 0.277726  [57632/60000]\n",
      "Test Error: \n",
      " Accuracy: 92.2%, Avg loss: 0.269827 \n",
      "\n",
      "Epoch 7\n",
      "-------------------------------\n",
      "loss: 0.559779  [   32/60000]\n",
      "loss: 0.223400  [ 3232/60000]\n",
      "loss: 0.426110  [ 6432/60000]\n",
      "loss: 0.333015  [ 9632/60000]\n",
      "loss: 0.364087  [12832/60000]\n",
      "loss: 0.202322  [16032/60000]\n",
      "loss: 0.284370  [19232/60000]\n",
      "loss: 0.353457  [22432/60000]\n",
      "loss: 0.304186  [25632/60000]\n",
      "loss: 0.101896  [28832/60000]\n",
      "loss: 0.301761  [32032/60000]\n",
      "loss: 0.365214  [35232/60000]\n",
      "loss: 0.326569  [38432/60000]\n",
      "loss: 0.224312  [41632/60000]\n",
      "loss: 0.451919  [44832/60000]\n",
      "loss: 0.254567  [48032/60000]\n",
      "loss: 0.165677  [51232/60000]\n",
      "loss: 0.258370  [54432/60000]\n",
      "loss: 0.337955  [57632/60000]\n",
      "Test Error: \n",
      " Accuracy: 92.4%, Avg loss: 0.265816 \n",
      "\n",
      "Epoch 8\n",
      "-------------------------------\n",
      "loss: 0.130866  [   32/60000]\n",
      "loss: 0.144304  [ 3232/60000]\n",
      "loss: 0.327124  [ 6432/60000]\n",
      "loss: 0.298132  [ 9632/60000]\n",
      "loss: 0.143876  [12832/60000]\n",
      "loss: 0.438858  [16032/60000]\n",
      "loss: 0.351289  [19232/60000]\n",
      "loss: 0.166466  [22432/60000]\n",
      "loss: 0.395716  [25632/60000]\n",
      "loss: 0.361502  [28832/60000]\n",
      "loss: 0.187308  [32032/60000]\n",
      "loss: 0.413824  [35232/60000]\n",
      "loss: 0.222531  [38432/60000]\n",
      "loss: 0.192947  [41632/60000]\n",
      "loss: 0.255578  [44832/60000]\n",
      "loss: 0.270831  [48032/60000]\n",
      "loss: 0.368108  [51232/60000]\n",
      "loss: 0.191662  [54432/60000]\n",
      "loss: 0.475468  [57632/60000]\n",
      "Test Error: \n",
      " Accuracy: 92.4%, Avg loss: 0.261837 \n",
      "\n",
      "Epoch 9\n",
      "-------------------------------\n",
      "loss: 0.251885  [   32/60000]\n",
      "loss: 0.121489  [ 3232/60000]\n",
      "loss: 0.124551  [ 6432/60000]\n",
      "loss: 0.339288  [ 9632/60000]\n",
      "loss: 0.417481  [12832/60000]\n",
      "loss: 0.409467  [16032/60000]\n",
      "loss: 0.251586  [19232/60000]\n",
      "loss: 0.277542  [22432/60000]\n",
      "loss: 0.207974  [25632/60000]\n",
      "loss: 0.098483  [28832/60000]\n",
      "loss: 0.124938  [32032/60000]\n",
      "loss: 0.176987  [35232/60000]\n",
      "loss: 0.188315  [38432/60000]\n",
      "loss: 0.305547  [41632/60000]\n",
      "loss: 0.231795  [44832/60000]\n",
      "loss: 0.231767  [48032/60000]\n",
      "loss: 0.284291  [51232/60000]\n",
      "loss: 0.184126  [54432/60000]\n",
      "loss: 0.042417  [57632/60000]\n",
      "Test Error: \n",
      " Accuracy: 92.6%, Avg loss: 0.258412 \n",
      "\n",
      "Epoch 10\n",
      "-------------------------------\n",
      "loss: 0.237671  [   32/60000]\n",
      "loss: 0.352887  [ 3232/60000]\n",
      "loss: 0.147545  [ 6432/60000]\n",
      "loss: 0.437296  [ 9632/60000]\n",
      "loss: 0.267118  [12832/60000]\n",
      "loss: 0.482417  [16032/60000]\n",
      "loss: 0.175631  [19232/60000]\n",
      "loss: 0.250015  [22432/60000]\n",
      "loss: 0.508028  [25632/60000]\n",
      "loss: 0.521141  [28832/60000]\n",
      "loss: 0.256521  [32032/60000]\n",
      "loss: 0.298513  [35232/60000]\n",
      "loss: 0.268106  [38432/60000]\n",
      "loss: 0.216152  [41632/60000]\n",
      "loss: 0.327513  [44832/60000]\n",
      "loss: 0.114184  [48032/60000]\n",
      "loss: 0.082669  [51232/60000]\n",
      "loss: 0.326298  [54432/60000]\n",
      "loss: 0.363356  [57632/60000]\n",
      "Test Error: \n",
      " Accuracy: 92.7%, Avg loss: 0.255140 \n",
      "\n",
      "Done!\n"
     ]
    }
   ],
   "execution_count": 40
  },
  {
   "attachments": {},
   "cell_type": "markdown",
   "metadata": {},
   "source": [
    "Также, напоминаем, что в любой момент можно обратиться к замечательной [документации](https://pytorch.org/docs/stable/index.html) и [обучающим примерам](https://pytorch.org/tutorials/).  "
   ]
  },
  {
   "attachments": {},
   "cell_type": "markdown",
   "metadata": {},
   "source": [
    "Оценим качество классификации:"
   ]
  },
  {
   "cell_type": "code",
   "metadata": {
    "ExecuteTime": {
     "end_time": "2025-02-25T09:29:37.058372Z",
     "start_time": "2025-02-25T09:29:33.935656Z"
    }
   },
   "source": [
    "predicted_labels = []\n",
    "real_labels = []\n",
    "model.eval()\n",
    "with torch.no_grad():\n",
    "    for batch in train_data_loader:\n",
    "        y_predicted = model(batch[0].reshape(-1, 784))\n",
    "        predicted_labels.append(y_predicted.argmax(dim=1))\n",
    "        real_labels.append(batch[1])\n",
    "\n",
    "predicted_labels = torch.cat(predicted_labels)\n",
    "real_labels = torch.cat(real_labels)\n",
    "train_acc = (predicted_labels == real_labels).type(torch.FloatTensor).mean()"
   ],
   "outputs": [],
   "execution_count": 41
  },
  {
   "cell_type": "code",
   "metadata": {
    "ExecuteTime": {
     "end_time": "2025-02-25T09:29:37.064678Z",
     "start_time": "2025-02-25T09:29:37.061374Z"
    }
   },
   "source": [
    "print(f'Neural network accuracy on train set: {train_acc:3.5}')"
   ],
   "outputs": [
    {
     "name": "stdout",
     "output_type": "stream",
     "text": [
      "Neural network accuracy on train set: 0.92525\n"
     ]
    }
   ],
   "execution_count": 42
  },
  {
   "cell_type": "code",
   "metadata": {
    "ExecuteTime": {
     "end_time": "2025-02-25T09:29:39.296339Z",
     "start_time": "2025-02-25T09:29:37.139711Z"
    }
   },
   "source": [
    "predicted_labels = []\n",
    "real_labels = []\n",
    "model.eval()\n",
    "with torch.no_grad():\n",
    "    for batch in test_data_loader:\n",
    "        y_predicted = model(batch[0].reshape(-1, 784))\n",
    "        predicted_labels.append(y_predicted.argmax(dim=1))\n",
    "        real_labels.append(batch[1])\n",
    "\n",
    "predicted_labels = torch.cat(predicted_labels)\n",
    "real_labels = torch.cat(real_labels)\n",
    "test_acc = (predicted_labels == real_labels).type(torch.FloatTensor).mean()"
   ],
   "outputs": [],
   "execution_count": 43
  },
  {
   "cell_type": "code",
   "metadata": {
    "ExecuteTime": {
     "end_time": "2025-02-25T09:29:39.307507Z",
     "start_time": "2025-02-25T09:29:39.304340Z"
    }
   },
   "source": [
    "print(f'Neural network accuracy on test set: {test_acc:3.5}')"
   ],
   "outputs": [
    {
     "name": "stdout",
     "output_type": "stream",
     "text": [
      "Neural network accuracy on test set: 0.9272\n"
     ]
    }
   ],
   "execution_count": 44
  },
  {
   "attachments": {},
   "cell_type": "markdown",
   "metadata": {},
   "source": [
    "Проверка, что необходимые пороги пройдены:"
   ]
  },
  {
   "cell_type": "code",
   "metadata": {
    "ExecuteTime": {
     "end_time": "2025-02-25T09:29:44.303395Z",
     "start_time": "2025-02-25T09:29:44.300396Z"
    }
   },
   "source": [
    "assert test_acc >= 0.92, 'Test accuracy is below 0.92 threshold'\n",
    "assert train_acc >= 0.91, 'Train accuracy is below 0.91 while test accuracy is fine. We recommend to check your model and data flow'"
   ],
   "outputs": [],
   "execution_count": 45
  },
  {
   "attachments": {},
   "cell_type": "markdown",
   "metadata": {},
   "source": [
    "### Сдача задания\n",
    "Загрузите файл `hw07_data_dict.npy` (ссылка есть на странице с заданием) и запустите код ниже для генерации посылки. Код ниже может его загрузить (но в случае возникновения ошибки скачайте и загрузите его вручную)."
   ]
  },
  {
   "cell_type": "code",
   "execution_count": null,
   "metadata": {},
   "outputs": [],
   "source": [
    "!wget https://raw.githubusercontent.com/girafe-ai/ml-course/23s_dd_ml/homeworks/hw07_mnist_classification/hw07_data_dict.npy"
   ]
  },
  {
   "cell_type": "code",
   "metadata": {
    "ExecuteTime": {
     "end_time": "2025-02-25T09:36:31.396595Z",
     "start_time": "2025-02-25T09:36:31.356597Z"
    }
   },
   "source": [
    "# do not change the code in the block below\n",
    "# __________start of block__________\n",
    "import os\n",
    "\n",
    "assert os.path.exists('hw07_data_dict.npy'), 'Please, download `hw07_data_dict.npy` and place it in the working directory'\n",
    "\n",
    "def get_predictions(model, eval_data, step=10):\n",
    "    \n",
    "    predicted_labels = []\n",
    "    model.eval()\n",
    "    with torch.no_grad():\n",
    "        for idx in range(0, len(eval_data), step):\n",
    "            y_predicted = model(eval_data[idx:idx+step].reshape(-1, 784))\n",
    "            predicted_labels.append(y_predicted.argmax(dim=1))\n",
    "    \n",
    "    predicted_labels = torch.cat(predicted_labels)\n",
    "    return predicted_labels\n",
    "\n",
    "loaded_data_dict = np.load('hw07_data_dict.npy', allow_pickle=True)\n",
    "\n",
    "submission_dict = {\n",
    "    'train': get_predictions(model, torch.FloatTensor(loaded_data_dict.item()['train'])).numpy(),\n",
    "    'test': get_predictions(model, torch.FloatTensor(loaded_data_dict.item()['test'])).numpy()\n",
    "}\n",
    "\n",
    "np.save('submission_dict_hw07.npy', submission_dict, allow_pickle=True)\n",
    "print('File saved to `submission_dict_hw07.npy`')\n",
    "# __________end of block__________"
   ],
   "outputs": [
    {
     "name": "stdout",
     "output_type": "stream",
     "text": [
      "{'train': array([[0., 0., 0., ..., 0., 0., 0.],\n",
      "       [0., 0., 0., ..., 0., 0., 0.],\n",
      "       [0., 0., 0., ..., 0., 0., 0.],\n",
      "       ...,\n",
      "       [0., 0., 0., ..., 0., 0., 0.],\n",
      "       [0., 0., 0., ..., 0., 0., 0.],\n",
      "       [0., 0., 0., ..., 0., 0., 0.]], shape=(1000, 784), dtype=float32), 'test': array([[0., 0., 0., ..., 0., 0., 0.],\n",
      "       [0., 0., 0., ..., 0., 0., 0.],\n",
      "       [0., 0., 0., ..., 0., 0., 0.],\n",
      "       ...,\n",
      "       [0., 0., 0., ..., 0., 0., 0.],\n",
      "       [0., 0., 0., ..., 0., 0., 0.],\n",
      "       [0., 0., 0., ..., 0., 0., 0.]], shape=(1000, 784), dtype=float32)}\n",
      "{'train': array([0, 9, 0, 2, 8, 5, 9, 9, 4, 4, 0, 5, 7, 7, 0, 2, 4, 3, 5, 6, 7, 1,\n",
      "       4, 5, 5, 7, 7, 2, 2, 2, 7, 2, 0, 1, 8, 6, 9, 6, 9, 6, 9, 8, 0, 4,\n",
      "       4, 1, 9, 4, 9, 0, 3, 7, 7, 6, 1, 1, 3, 4, 0, 0, 3, 8, 0, 3, 1, 7,\n",
      "       2, 5, 3, 5, 4, 2, 3, 4, 0, 1, 2, 1, 3, 2, 0, 8, 1, 7, 0, 0, 4, 5,\n",
      "       0, 3, 1, 8, 4, 8, 2, 5, 9, 2, 9, 6, 3, 1, 5, 4, 3, 7, 0, 8, 6, 5,\n",
      "       8, 6, 2, 4, 4, 8, 1, 5, 3, 6, 0, 6, 6, 8, 9, 9, 6, 7, 7, 7, 9, 0,\n",
      "       6, 5, 7, 2, 0, 0, 8, 9, 7, 7, 9, 6, 8, 1, 3, 1, 5, 7, 1, 4, 4, 5,\n",
      "       4, 2, 3, 8, 2, 0, 0, 3, 1, 0, 6, 4, 3, 6, 4, 4, 6, 2, 1, 8, 4, 3,\n",
      "       7, 8, 8, 7, 9, 0, 3, 9, 9, 2, 3, 3, 4, 1, 1, 9, 6, 7, 8, 7, 6, 6,\n",
      "       9, 3, 3, 2, 8, 2, 5, 4, 2, 2, 6, 9, 3, 7, 0, 8, 9, 6, 7, 0, 7, 6,\n",
      "       1, 7, 1, 0, 9, 2, 2, 9, 3, 8, 0, 8, 6, 1, 1, 3, 2, 7, 9, 2, 0, 7,\n",
      "       4, 9, 9, 6, 5, 9, 4, 6, 9, 2, 9, 5, 5, 3, 7, 6, 4, 3, 4, 0, 9, 3,\n",
      "       3, 3, 8, 2, 6, 5, 1, 5, 8, 2, 5, 6, 0, 1, 1, 7, 6, 7, 5, 3, 1, 9,\n",
      "       4, 8, 0, 6, 2, 1, 2, 4, 0, 7, 8, 1, 6, 8, 0, 1, 2, 2, 1, 8, 9, 3,\n",
      "       1, 4, 9, 3, 8, 0, 0, 5, 5, 8, 3, 2, 8, 2, 1, 5, 4, 0, 4, 6, 5, 7,\n",
      "       5, 0, 3, 6, 9, 9, 1, 6, 7, 7, 6, 5, 8, 4, 6, 0, 3, 6, 8, 2, 5, 6,\n",
      "       7, 9, 1, 8, 6, 1, 4, 9, 2, 6, 7, 0, 5, 6, 7, 9, 1, 1, 6, 3, 9, 2,\n",
      "       3, 0, 7, 4, 1, 6, 2, 2, 1, 3, 0, 6, 2, 9, 3, 3, 7, 3, 4, 3, 5, 9,\n",
      "       1, 8, 7, 4, 1, 9, 4, 5, 5, 3, 9, 8, 7, 7, 7, 6, 9, 9, 3, 9, 8, 7,\n",
      "       3, 7, 1, 8, 4, 2, 7, 0, 1, 1, 0, 6, 3, 2, 8, 4, 1, 2, 7, 3, 9, 3,\n",
      "       9, 6, 1, 5, 7, 9, 1, 8, 1, 3, 9, 9, 3, 5, 3, 4, 0, 3, 6, 7, 6, 3,\n",
      "       9, 6, 0, 2, 9, 6, 5, 4, 2, 3, 9, 8, 8, 7, 0, 1, 7, 3, 3, 4, 2, 1,\n",
      "       5, 2, 8, 6, 0, 8, 5, 9, 3, 7, 6, 6, 8, 8, 7, 7, 6, 9, 0, 6, 9, 4,\n",
      "       6, 4, 5, 6, 8, 1, 4, 6, 4, 1, 0, 9, 2, 9, 4, 5, 7, 6, 3, 2, 2, 5,\n",
      "       1, 2, 8, 3, 6, 8, 2, 8, 1, 0, 8, 7, 1, 5, 1, 4, 6, 7, 6, 0, 3, 8,\n",
      "       7, 5, 5, 2, 4, 9, 9, 3, 5, 0, 3, 4, 8, 7, 7, 2, 0, 9, 7, 0, 7, 4,\n",
      "       0, 7, 7, 1, 7, 5, 0, 2, 5, 7, 0, 1, 2, 4, 9, 3, 8, 2, 7, 4, 8, 7,\n",
      "       6, 5, 7, 6, 9, 7, 7, 7, 2, 6, 0, 7, 9, 6, 2, 3, 5, 7, 4, 4, 8, 5,\n",
      "       2, 7, 8, 8, 4, 4, 5, 1, 6, 9, 3, 1, 2, 0, 9, 8, 5, 8, 8, 1, 2, 1,\n",
      "       9, 5, 1, 3, 2, 5, 7, 5, 0, 3, 6, 4, 2, 7, 0, 6, 0, 3, 3, 1, 0, 2,\n",
      "       2, 8, 2, 1, 8, 9, 5, 7, 6, 6, 2, 6, 6, 0, 1, 1, 7, 3, 1, 5, 1, 8,\n",
      "       3, 6, 3, 0, 5, 6, 7, 0, 5, 7, 3, 3, 1, 0, 8, 1, 3, 0, 7, 6, 4, 9,\n",
      "       3, 5, 9, 9, 6, 4, 7, 6, 2, 4, 1, 9, 8, 1, 7, 3, 1, 7, 0, 8, 6, 7,\n",
      "       4, 5, 7, 1, 9, 7, 7, 5, 7, 7, 9, 8, 6, 7, 3, 7, 0, 3, 8, 0, 9, 3,\n",
      "       9, 5, 4, 1, 7, 0, 6, 7, 5, 5, 5, 3, 2, 2, 6, 5, 9, 1, 1, 4, 8, 4,\n",
      "       2, 8, 2, 4, 6, 1, 2, 0, 7, 0, 3, 3, 2, 9, 9, 7, 4, 6, 8, 8, 9, 4,\n",
      "       9, 8, 4, 2, 0, 1, 0, 7, 5, 9, 7, 7, 9, 8, 6, 6, 7, 5, 8, 4, 3, 8,\n",
      "       5, 3, 9, 4, 4, 2, 3, 3, 0, 8, 7, 3, 3, 7, 5, 6, 5, 7, 1, 4, 7, 3,\n",
      "       3, 4, 2, 5, 3, 9, 9, 6, 2, 7, 8, 8, 7, 7, 7, 0, 9, 5, 6, 8, 4, 8,\n",
      "       3, 2, 7, 5, 5, 7, 6, 6, 0, 4, 4, 5, 6, 6, 8, 1, 6, 3, 4, 6, 1, 5,\n",
      "       6, 5, 7, 7, 5, 9, 1, 1, 4, 9, 3, 4, 6, 7, 3, 6, 7, 9, 8, 4, 3, 3,\n",
      "       1, 1, 7, 3, 8, 1, 2, 1, 0, 9, 5, 8, 4, 4, 1, 2, 6, 5, 9, 1, 4, 4,\n",
      "       0, 3, 4, 8, 1, 9, 8, 7, 7, 5, 6, 1, 8, 2, 5, 0, 5, 7, 2, 7, 2, 8,\n",
      "       5, 7, 3, 4, 9, 2, 8, 8, 7, 7, 9, 0, 8, 6, 1, 7, 8, 6, 0, 1, 4, 4,\n",
      "       2, 8, 9, 5, 9, 9, 4, 8, 8, 1, 6, 5, 8, 0, 7, 8, 4, 7, 5, 2, 0, 7,\n",
      "       7, 8, 2, 0, 3, 8, 7, 0, 9, 2]), 'test': array([7, 2, 1, 0, 4, 1, 4, 9, 6, 9, 0, 6, 9, 0, 1, 5, 9, 7, 3, 4, 9, 6,\n",
      "       6, 5, 4, 0, 7, 4, 0, 1, 3, 1, 3, 6, 7, 2, 7, 1, 2, 1, 1, 7, 4, 2,\n",
      "       3, 5, 1, 2, 4, 4, 6, 3, 5, 5, 6, 0, 4, 1, 9, 5, 7, 8, 4, 3, 7, 4,\n",
      "       6, 4, 3, 0, 7, 0, 2, 7, 1, 7, 3, 7, 9, 7, 7, 6, 2, 7, 8, 4, 7, 3,\n",
      "       6, 1, 3, 6, 9, 3, 1, 4, 1, 7, 6, 9, 6, 0, 5, 4, 9, 9, 2, 1, 9, 4,\n",
      "       8, 7, 3, 9, 7, 4, 4, 4, 9, 2, 5, 4, 7, 6, 4, 9, 0, 5, 8, 5, 6, 6,\n",
      "       5, 7, 8, 1, 0, 1, 6, 4, 6, 7, 3, 1, 7, 1, 8, 2, 0, 9, 9, 9, 5, 5,\n",
      "       1, 5, 6, 0, 3, 4, 4, 6, 5, 4, 6, 5, 4, 5, 1, 4, 4, 7, 2, 3, 2, 7,\n",
      "       1, 8, 1, 8, 1, 8, 5, 0, 8, 9, 2, 5, 0, 1, 1, 1, 0, 9, 0, 3, 1, 6,\n",
      "       4, 2, 3, 6, 1, 1, 1, 3, 9, 5, 2, 9, 4, 5, 9, 3, 9, 0, 3, 5, 5, 5,\n",
      "       7, 2, 2, 7, 1, 2, 8, 4, 1, 7, 3, 3, 8, 7, 7, 9, 2, 2, 4, 1, 5, 8,\n",
      "       8, 7, 2, 5, 0, 2, 4, 2, 4, 1, 9, 5, 7, 7, 2, 8, 2, 0, 8, 5, 7, 7,\n",
      "       9, 1, 8, 1, 8, 0, 3, 0, 1, 9, 9, 4, 1, 8, 2, 1, 2, 9, 7, 5, 9, 2,\n",
      "       6, 4, 1, 5, 4, 2, 9, 2, 0, 4, 0, 0, 2, 8, 6, 7, 1, 2, 4, 0, 2, 7,\n",
      "       4, 3, 3, 0, 0, 5, 1, 9, 6, 5, 2, 5, 7, 7, 9, 3, 0, 4, 2, 0, 7, 1,\n",
      "       1, 2, 1, 5, 3, 3, 9, 7, 8, 6, 3, 4, 1, 3, 8, 1, 0, 5, 1, 3, 1, 5,\n",
      "       0, 6, 1, 8, 5, 1, 7, 9, 4, 6, 7, 2, 5, 0, 6, 5, 6, 3, 7, 2, 0, 8,\n",
      "       8, 5, 4, 1, 1, 4, 0, 7, 3, 7, 6, 1, 6, 2, 1, 9, 2, 8, 6, 1, 9, 5,\n",
      "       2, 5, 4, 4, 2, 8, 3, 8, 2, 4, 5, 0, 3, 1, 7, 7, 3, 7, 9, 7, 1, 9,\n",
      "       2, 1, 4, 2, 9, 2, 0, 4, 9, 1, 4, 8, 1, 8, 4, 5, 9, 7, 8, 3, 7, 6,\n",
      "       0, 0, 3, 0, 8, 0, 6, 4, 8, 5, 3, 3, 2, 3, 9, 1, 2, 6, 8, 0, 5, 6,\n",
      "       6, 6, 7, 8, 8, 2, 2, 5, 8, 9, 6, 1, 8, 4, 1, 2, 8, 3, 1, 9, 7, 5,\n",
      "       4, 0, 8, 9, 9, 1, 0, 5, 2, 3, 7, 2, 9, 4, 0, 6, 3, 9, 3, 2, 1, 3,\n",
      "       1, 5, 6, 5, 7, 8, 2, 2, 6, 8, 2, 6, 5, 4, 8, 9, 7, 1, 3, 0, 3, 8,\n",
      "       3, 1, 9, 6, 4, 4, 6, 4, 1, 1, 8, 2, 5, 4, 8, 3, 4, 0, 0, 2, 3, 2,\n",
      "       7, 1, 0, 6, 7, 4, 4, 7, 9, 6, 9, 0, 9, 8, 0, 9, 6, 0, 6, 5, 5, 4,\n",
      "       8, 3, 3, 9, 3, 3, 2, 7, 8, 0, 2, 2, 1, 7, 0, 6, 5, 4, 3, 3, 0, 9,\n",
      "       6, 3, 8, 0, 9, 9, 6, 8, 6, 8, 5, 7, 8, 6, 0, 2, 4, 0, 2, 8, 3, 1,\n",
      "       9, 7, 5, 8, 0, 8, 4, 6, 2, 6, 7, 9, 9, 6, 9, 8, 2, 2, 9, 2, 7, 3,\n",
      "       5, 9, 1, 8, 0, 2, 0, 5, 2, 1, 3, 7, 6, 7, 1, 2, 5, 8, 0, 3, 7, 9,\n",
      "       4, 0, 9, 1, 8, 6, 7, 7, 4, 3, 4, 9, 1, 9, 5, 1, 7, 3, 9, 7, 6, 9,\n",
      "       1, 3, 3, 8, 3, 3, 6, 7, 2, 4, 5, 8, 5, 1, 1, 4, 4, 3, 1, 0, 7, 7,\n",
      "       0, 7, 9, 9, 4, 8, 5, 5, 4, 0, 8, 2, 1, 6, 8, 4, 8, 0, 4, 0, 6, 1,\n",
      "       7, 3, 8, 6, 7, 2, 6, 9, 3, 1, 4, 6, 8, 5, 9, 2, 0, 6, 2, 1, 7, 3,\n",
      "       4, 1, 0, 5, 4, 3, 1, 1, 7, 4, 9, 9, 9, 8, 4, 0, 2, 4, 5, 1, 1, 6,\n",
      "       4, 7, 1, 9, 4, 2, 4, 1, 5, 5, 3, 8, 3, 1, 4, 5, 6, 8, 9, 4, 1, 9,\n",
      "       3, 8, 0, 3, 2, 5, 1, 2, 8, 3, 4, 4, 0, 8, 8, 3, 3, 1, 7, 3, 5, 9,\n",
      "       6, 3, 2, 6, 1, 3, 6, 0, 7, 2, 1, 7, 1, 4, 2, 4, 2, 1, 7, 9, 6, 1,\n",
      "       1, 2, 4, 3, 1, 7, 7, 4, 7, 0, 7, 3, 1, 3, 1, 0, 7, 7, 0, 3, 5, 3,\n",
      "       2, 7, 6, 6, 9, 2, 8, 3, 5, 2, 2, 5, 6, 0, 8, 2, 9, 2, 8, 8, 8, 8,\n",
      "       7, 9, 7, 3, 0, 6, 6, 3, 2, 1, 3, 2, 2, 9, 3, 0, 0, 5, 2, 8, 1, 4,\n",
      "       4, 6, 0, 2, 9, 1, 4, 7, 4, 7, 3, 9, 8, 8, 4, 7, 1, 2, 1, 2, 2, 3,\n",
      "       7, 3, 2, 3, 9, 1, 7, 4, 0, 3, 5, 5, 8, 6, 5, 0, 6, 7, 6, 6, 3, 2,\n",
      "       7, 9, 1, 1, 2, 5, 6, 4, 9, 5, 2, 3, 3, 9, 7, 8, 9, 1, 1, 0, 9, 1,\n",
      "       4, 4, 5, 4, 0, 6, 2, 2, 3, 1, 5, 1, 2, 0, 8, 8, 1, 2, 6, 7, 1, 6,\n",
      "       2, 3, 9, 0, 1, 2, 2, 0, 8, 9])}\n",
      "File saved to `submission_dict_hw03.npy`\n"
     ]
    }
   ],
   "execution_count": 50
  },
  {
   "metadata": {
    "ExecuteTime": {
     "end_time": "2025-02-25T09:53:36.607118Z",
     "start_time": "2025-02-25T09:53:36.587208Z"
    }
   },
   "cell_type": "code",
   "source": "np.load('submission_dict_hw07_01.npy', allow_pickle=True)",
   "outputs": [
    {
     "ename": "UnpicklingError",
     "evalue": "Failed to interpret file 'submission_dict_hw07_01.npy' as a pickle",
     "output_type": "error",
     "traceback": [
      "\u001B[1;31m---------------------------------------------------------------------------\u001B[0m",
      "\u001B[1;31mUnpicklingError\u001B[0m                           Traceback (most recent call last)",
      "File \u001B[1;32m~\\PycharmProjects\\ya_ml_training_1\\.venv\\Lib\\site-packages\\numpy\\lib\\_npyio_impl.py:491\u001B[0m, in \u001B[0;36mload\u001B[1;34m(file, mmap_mode, allow_pickle, fix_imports, encoding, max_header_size)\u001B[0m\n\u001B[0;32m    490\u001B[0m \u001B[38;5;28;01mtry\u001B[39;00m:\n\u001B[1;32m--> 491\u001B[0m     \u001B[38;5;28;01mreturn\u001B[39;00m \u001B[43mpickle\u001B[49m\u001B[38;5;241;43m.\u001B[39;49m\u001B[43mload\u001B[49m\u001B[43m(\u001B[49m\u001B[43mfid\u001B[49m\u001B[43m,\u001B[49m\u001B[43m \u001B[49m\u001B[38;5;241;43m*\u001B[39;49m\u001B[38;5;241;43m*\u001B[39;49m\u001B[43mpickle_kwargs\u001B[49m\u001B[43m)\u001B[49m\n\u001B[0;32m    492\u001B[0m \u001B[38;5;28;01mexcept\u001B[39;00m \u001B[38;5;167;01mException\u001B[39;00m \u001B[38;5;28;01mas\u001B[39;00m e:\n",
      "\u001B[1;31mUnpicklingError\u001B[0m: invalid load key, '\\xe2'.",
      "\nThe above exception was the direct cause of the following exception:\n",
      "\u001B[1;31mUnpicklingError\u001B[0m                           Traceback (most recent call last)",
      "Cell \u001B[1;32mIn[60], line 1\u001B[0m\n\u001B[1;32m----> 1\u001B[0m \u001B[43mnp\u001B[49m\u001B[38;5;241;43m.\u001B[39;49m\u001B[43mload\u001B[49m\u001B[43m(\u001B[49m\u001B[38;5;124;43m'\u001B[39;49m\u001B[38;5;124;43msubmission_dict_hw07_01.npy\u001B[39;49m\u001B[38;5;124;43m'\u001B[39;49m\u001B[43m,\u001B[49m\u001B[43m \u001B[49m\u001B[43mallow_pickle\u001B[49m\u001B[38;5;241;43m=\u001B[39;49m\u001B[38;5;28;43;01mTrue\u001B[39;49;00m\u001B[43m)\u001B[49m\n",
      "File \u001B[1;32m~\\PycharmProjects\\ya_ml_training_1\\.venv\\Lib\\site-packages\\numpy\\lib\\_npyio_impl.py:493\u001B[0m, in \u001B[0;36mload\u001B[1;34m(file, mmap_mode, allow_pickle, fix_imports, encoding, max_header_size)\u001B[0m\n\u001B[0;32m    491\u001B[0m     \u001B[38;5;28;01mreturn\u001B[39;00m pickle\u001B[38;5;241m.\u001B[39mload(fid, \u001B[38;5;241m*\u001B[39m\u001B[38;5;241m*\u001B[39mpickle_kwargs)\n\u001B[0;32m    492\u001B[0m \u001B[38;5;28;01mexcept\u001B[39;00m \u001B[38;5;167;01mException\u001B[39;00m \u001B[38;5;28;01mas\u001B[39;00m e:\n\u001B[1;32m--> 493\u001B[0m     \u001B[38;5;28;01mraise\u001B[39;00m pickle\u001B[38;5;241m.\u001B[39mUnpicklingError(\n\u001B[0;32m    494\u001B[0m         \u001B[38;5;124mf\u001B[39m\u001B[38;5;124m\"\u001B[39m\u001B[38;5;124mFailed to interpret file \u001B[39m\u001B[38;5;132;01m{\u001B[39;00mfile\u001B[38;5;132;01m!r}\u001B[39;00m\u001B[38;5;124m as a pickle\u001B[39m\u001B[38;5;124m\"\u001B[39m) \u001B[38;5;28;01mfrom\u001B[39;00m\u001B[38;5;250m \u001B[39m\u001B[38;5;21;01me\u001B[39;00m\n",
      "\u001B[1;31mUnpicklingError\u001B[0m: Failed to interpret file 'submission_dict_hw07_01.npy' as a pickle"
     ]
    }
   ],
   "execution_count": 60
  },
  {
   "metadata": {
    "ExecuteTime": {
     "end_time": "2025-02-25T11:02:23.903157Z",
     "start_time": "2025-02-25T11:02:23.886200Z"
    }
   },
   "cell_type": "code",
   "source": "get_predictions(model, torch.FloatTensor(loaded_data_dict.item()['train'])).numpy().dtype",
   "outputs": [
    {
     "data": {
      "text/plain": [
       "dtype('int64')"
      ]
     },
     "execution_count": 68,
     "metadata": {},
     "output_type": "execute_result"
    }
   ],
   "execution_count": 68
  },
  {
   "attachments": {},
   "cell_type": "markdown",
   "metadata": {},
   "source": [
    "На этом задание завершено. Поздравляем!"
   ]
  }
 ],
 "metadata": {
  "kernelspec": {
   "display_name": "Python 3 (ipykernel)",
   "language": "python",
   "name": "python3"
  },
  "language_info": {
   "codemirror_mode": {
    "name": "ipython",
    "version": 3
   },
   "file_extension": ".py",
   "mimetype": "text/x-python",
   "name": "python",
   "nbconvert_exporter": "python",
   "pygments_lexer": "ipython3",
   "version": "3.7.10"
  }
 },
 "nbformat": 4,
 "nbformat_minor": 4
}
