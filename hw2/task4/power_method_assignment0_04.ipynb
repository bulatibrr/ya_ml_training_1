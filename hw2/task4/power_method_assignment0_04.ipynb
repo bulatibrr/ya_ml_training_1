{
 "cells": [
  {
   "cell_type": "markdown",
   "metadata": {
    "id": "-2pjXks_0tmd"
   },
   "source": [
    "## Задача №4: Степенной метод"
   ]
  },
  {
   "cell_type": "markdown",
   "metadata": {
    "id": "WPYirA190tmg"
   },
   "source": [
    "Ваша задача – реализовать степенной метод вычисления собственных значений и собственных векторов и протестировать его на синтетических данных. Подробности можно найти на [Википедии](https://ru.wikipedia.org/wiki/Степенной_метод).\n",
    "\n",
    "Пожалуйста, обратите внимание, что предложенный метод должен быть применим также для вычисления наименьшего собственного значения (по абсолютной величине).\n",
    "\n",
    "На всякий случай, для собственного значения $\\lambda$ и собственного вектора $\\boldsymbol{x}$ матрицы $\\mathbf{A}$ справедливо следующее уравнение:\n",
    "$$\n",
    "\\mathbf{A}\\boldsymbol{x} = \\lambda \\boldsymbol{x}\n",
    "$$"
   ]
  },
  {
   "cell_type": "code",
   "metadata": {
    "id": "4pqgXdtr0tmh",
    "ExecuteTime": {
     "end_time": "2025-02-18T08:26:53.268868Z",
     "start_time": "2025-02-18T08:26:53.195640Z"
    }
   },
   "source": [
    "import numpy as np"
   ],
   "outputs": [],
   "execution_count": 1
  },
  {
   "cell_type": "code",
   "metadata": {
    "ExecuteTime": {
     "end_time": "2025-02-18T08:48:03.104264Z",
     "start_time": "2025-02-18T08:48:03.099806Z"
    }
   },
   "source": [
    "def get_dominant_eigenvalue_and_eigenvector(data, num_steps):\n",
    "    \"\"\"\n",
    "    data: np.ndarray – symmetric diagonalizable real-valued matrix\n",
    "    num_steps: int – number of power method steps\n",
    "\n",
    "    Returns:\n",
    "    eigenvalue: float – dominant eigenvalue estimation after `num_steps` steps\n",
    "    eigenvector: np.ndarray – corresponding eigenvector estimation\n",
    "    \"\"\"\n",
    "    x = np.random.rand(data.shape[1])\n",
    "\n",
    "    for i in range(num_steps):\n",
    "        x = np.dot(data, x)\n",
    "        x_norm = np.linalg.norm(x)\n",
    "        x /= x_norm\n",
    "\n",
    "    l = float(np.dot(np.dot(x.T, data), x) / np.dot(x.T, x))\n",
    "\n",
    "    return l, x"
   ],
   "outputs": [],
   "execution_count": 8
  },
  {
   "cell_type": "markdown",
   "metadata": {},
   "source": [
    "Для вашего удобства реализовано несколько тестов ниже. В качестве корректного примера используется функция из numpy."
   ]
  },
  {
   "cell_type": "code",
   "metadata": {
    "ExecuteTime": {
     "end_time": "2025-02-18T08:48:04.188679Z",
     "start_time": "2025-02-18T08:48:04.185667Z"
    }
   },
   "source": [
    "def get_eigenvalues_and_eigenvectors_with_numpy(data):\n",
    "    _eigenvalues, _eigenvectors = np.linalg.eig(data)\n",
    "    max_index = np.argmax(np.abs(_eigenvalues))\n",
    "    min_index = np.argmin(np.abs(_eigenvalues))\n",
    "\n",
    "    _test_pair_a = np.array([_eigenvalues[max_index], _eigenvalues[min_index]])\n",
    "    _test_pair_b = np.array([_eigenvectors[:, max_index], _eigenvectors[:, min_index]])\n",
    "    if _test_pair_b[0][0] < 0:\n",
    "        _test_pair_b[0] *= -1\n",
    "    if _test_pair_b[1][0] < 0:\n",
    "        _test_pair_b[1] *= -1\n",
    "\n",
    "    return _test_pair_a, _test_pair_b"
   ],
   "outputs": [],
   "execution_count": 9
  },
  {
   "cell_type": "code",
   "metadata": {
    "ExecuteTime": {
     "end_time": "2025-02-18T08:48:08.730695Z",
     "start_time": "2025-02-18T08:48:04.650361Z"
    }
   },
   "source": [
    "for _ in range(1000):\n",
    "    size = np.random.choice(np.arange(2, 5))\n",
    "    data = np.random.randn(size, size)\n",
    "    data = data.T.dot(data)\n",
    "    a0, b0 = get_dominant_eigenvalue_and_eigenvector(data, 1000)\n",
    "    assert (\n",
    "        type(a0) == float\n",
    "    ), \"Return type for eigenvalue is not Python float (please, note, numpy.float64 is a different type)\"\n",
    "    assert type(b0) == np.ndarray, \"Return type for eigenvector is not np.ndarray\"\n",
    "\n",
    "    a1, b1 = get_dominant_eigenvalue_and_eigenvector(np.linalg.inv(data), 1000)\n",
    "    a1 = 1 / a1\n",
    "\n",
    "    if b0[0] < 0:\n",
    "        b0 *= -1\n",
    "    if b1[0] < 0:\n",
    "        b1 *= -1\n",
    "\n",
    "    assert np.allclose(\n",
    "        data.dot(b0), a0 * b0, atol=1e-3\n",
    "    ), f\"Ax != \\lambda x for the dominant eigenvalue check the solution!\\n{data.dot(b0), a0 * b0}\"\n",
    "    assert np.allclose(\n",
    "        data.dot(b1), a1 * b1, atol=1e-3\n",
    "    ), f\"Ax != \\lambda x for the smallest eigenvalue check the solution!\\n{data.dot(b1), a1 * b1}\"\n",
    "\n",
    "    _test_pair_a, _test_pair_b = get_eigenvalues_and_eigenvectors_with_numpy(data)\n",
    "\n",
    "    assert np.allclose(\n",
    "        _test_pair_a, np.array([a0, a1]), atol=1e-3\n",
    "    ), f\"Eigenvalues are different from np.linalg.eig!\\n{_test_pair_a, np.array([a0, a1])}\"\n",
    "    assert np.allclose(\n",
    "        _test_pair_b, np.array([b0, b1]), atol=1e-3\n",
    "    ), f\"Eigenvectors are different from np.linalg.eig!\\n{_test_pair_b, np.array([b0, b1])}\"\n",
    "\n",
    "print(\n",
    "    \"Seems fine! Copy function `get_dominant_eigenvalue_and_eigenvector` to the .py file and submit your solution to the contest!\"\n",
    ")"
   ],
   "outputs": [
    {
     "name": "stderr",
     "output_type": "stream",
     "text": [
      "<>:21: SyntaxWarning: invalid escape sequence '\\l'\n",
      "<>:24: SyntaxWarning: invalid escape sequence '\\l'\n",
      "<>:21: SyntaxWarning: invalid escape sequence '\\l'\n",
      "<>:24: SyntaxWarning: invalid escape sequence '\\l'\n",
      "C:\\Users\\bulat\\AppData\\Local\\Temp\\ipykernel_6040\\2028761511.py:21: SyntaxWarning: invalid escape sequence '\\l'\n",
      "  ), f\"Ax != \\lambda x for the dominant eigenvalue check the solution!\\n{data.dot(b0), a0 * b0}\"\n",
      "C:\\Users\\bulat\\AppData\\Local\\Temp\\ipykernel_6040\\2028761511.py:24: SyntaxWarning: invalid escape sequence '\\l'\n",
      "  ), f\"Ax != \\lambda x for the smallest eigenvalue check the solution!\\n{data.dot(b1), a1 * b1}\"\n"
     ]
    },
    {
     "name": "stdout",
     "output_type": "stream",
     "text": [
      "Seems fine! Copy function `get_dominant_eigenvalue_and_eigenvector` to the .py file and submit your solution to the contest!\n"
     ]
    }
   ],
   "execution_count": 10
  },
  {
   "metadata": {},
   "cell_type": "code",
   "outputs": [],
   "execution_count": null,
   "source": ""
  }
 ],
 "metadata": {
  "colab": {
   "provenance": []
  },
  "kernelspec": {
   "display_name": "Python 3 (ipykernel)",
   "language": "python",
   "name": "python3"
  },
  "language_info": {
   "codemirror_mode": {
    "name": "ipython",
    "version": 3
   },
   "file_extension": ".py",
   "mimetype": "text/x-python",
   "name": "python",
   "nbconvert_exporter": "python",
   "pygments_lexer": "ipython3",
   "version": "3.9.7"
  }
 },
 "nbformat": 4,
 "nbformat_minor": 1
}
